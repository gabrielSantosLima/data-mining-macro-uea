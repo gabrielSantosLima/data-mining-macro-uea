{
 "cells": [
  {
   "cell_type": "markdown",
   "metadata": {},
   "source": [
    "# Análise de Candidatos ao Vestibular da UEA"
   ]
  },
  {
   "cell_type": "markdown",
   "metadata": {},
   "source": [
    "Importing libraries (general)"
   ]
  },
  {
   "cell_type": "code",
   "execution_count": 2,
   "metadata": {},
   "outputs": [],
   "source": [
    "from os.path import join\n",
    "import pandas as pd"
   ]
  },
  {
   "cell_type": "markdown",
   "metadata": {},
   "source": [
    "Building dataset from pdf files"
   ]
  },
  {
   "cell_type": "code",
   "execution_count": 3,
   "metadata": {},
   "outputs": [
    {
     "name": "stdout",
     "output_type": "stream",
     "text": [
      "reading .\\data\\pdf\\2019\\data1.pdf\n",
      "reading .\\data\\pdf\\2019\\data2.pdf\n",
      "reading .\\data\\pdf\\2019\\data3.pdf\n",
      "reading .\\data\\pdf\\2020\\data1.pdf\n",
      "reading .\\data\\pdf\\2021\\data1.pdf\n",
      "reading .\\data\\pdf\\2022\\data1.pdf\n",
      "reading .\\data\\pdf\\2022\\data2.pdf\n",
      ".\\data\\csv\\data.csv\n"
     ]
    }
   ],
   "source": [
    "\n",
    "from src.dataset import dataset\n",
    "\n",
    "pdf_folder_path = join('.', 'data', 'pdf')\n",
    "\n",
    "# building dataset\n",
    "csv_path = dataset(pdf_folder_path)\n",
    "print(csv_path)\n"
   ]
  },
  {
   "cell_type": "code",
   "execution_count": 6,
   "metadata": {},
   "outputs": [
    {
     "name": "stdout",
     "output_type": "stream",
     "text": [
      "<class 'pandas.core.frame.DataFrame'>\n",
      "RangeIndex: 183983 entries, 0 to 183982\n",
      "Data columns (total 17 columns):\n",
      " #   Column        Non-Null Count   Dtype  \n",
      "---  ------        --------------   -----  \n",
      " 0   numinscricao  183983 non-null  object \n",
      " 1   nome          183983 non-null  object \n",
      " 2   datanasc      183983 non-null  object \n",
      " 3   classificao   183983 non-null  object \n",
      " 4   NF            160451 non-null  float64\n",
      " 5   CG            160451 non-null  float64\n",
      " 6   ENEM          160451 non-null  float64\n",
      " 7   nota1         160451 non-null  float64\n",
      " 8   disc1         160451 non-null  float64\n",
      " 9   disc2         160451 non-null  float64\n",
      " 10  disc3         160451 non-null  float64\n",
      " 11  CE            160451 non-null  float64\n",
      " 12  RED           160451 non-null  float64\n",
      " 13  nota2         160451 non-null  float64\n",
      " 14  OP1           144870 non-null  float64\n",
      " 15  OP2           124741 non-null  float64\n",
      " 16  OP3           955 non-null     float64\n",
      "dtypes: float64(13), object(4)\n",
      "memory usage: 23.9+ MB\n"
     ]
    },
    {
     "name": "stderr",
     "output_type": "stream",
     "text": [
      "C:\\Users\\Gabriel\\AppData\\Local\\Temp\\ipykernel_17872\\1244578374.py:1: DtypeWarning: Columns (3) have mixed types. Specify dtype option on import or set low_memory=False.\n",
      "  data = pd.read_csv(csv_path, encoding=\"utf-8\", encoding_errors=\"ignore\")\n"
     ]
    }
   ],
   "source": [
    "data = pd.read_csv(csv_path, encoding=\"utf-8\", encoding_errors=\"ignore\")\n",
    "data.info()"
   ]
  }
 ],
 "metadata": {
  "kernelspec": {
   "display_name": "venv",
   "language": "python",
   "name": "python3"
  },
  "language_info": {
   "codemirror_mode": {
    "name": "ipython",
    "version": 3
   },
   "file_extension": ".py",
   "mimetype": "text/x-python",
   "name": "python",
   "nbconvert_exporter": "python",
   "pygments_lexer": "ipython3",
   "version": "3.10.0"
  }
 },
 "nbformat": 4,
 "nbformat_minor": 2
}
