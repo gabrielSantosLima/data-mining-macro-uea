{
 "cells": [
  {
   "cell_type": "code",
   "execution_count": 76,
   "metadata": {},
   "outputs": [],
   "source": [
    "import pandas as pd\n",
    "import numpy as np\n",
    "\n",
    "from sklearn.tree import DecisionTreeClassifier\n",
    "from sklearn.model_selection import train_test_split\n",
    "from sklearn.metrics import mean_squared_error\n",
    "from sklearn.model_selection import cross_val_score\n"
   ]
  },
  {
   "cell_type": "markdown",
   "metadata": {},
   "source": [
    "### Carregando o dataset"
   ]
  },
  {
   "cell_type": "code",
   "execution_count": 77,
   "metadata": {},
   "outputs": [],
   "source": [
    "data = pd.read_csv('../data/csv/candidates_info.csv', sep=',', encoding='utf-8')"
   ]
  },
  {
   "cell_type": "code",
   "execution_count": 78,
   "metadata": {},
   "outputs": [
    {
     "data": {
      "text/html": [
       "<div>\n",
       "<style scoped>\n",
       "    .dataframe tbody tr th:only-of-type {\n",
       "        vertical-align: middle;\n",
       "    }\n",
       "\n",
       "    .dataframe tbody tr th {\n",
       "        vertical-align: top;\n",
       "    }\n",
       "\n",
       "    .dataframe thead th {\n",
       "        text-align: right;\n",
       "    }\n",
       "</style>\n",
       "<table border=\"1\" class=\"dataframe\">\n",
       "  <thead>\n",
       "    <tr style=\"text-align: right;\">\n",
       "      <th></th>\n",
       "      <th>numinscricao</th>\n",
       "      <th>nome</th>\n",
       "      <th>datanasc</th>\n",
       "      <th>classificacao</th>\n",
       "      <th>opcao_curso_2</th>\n",
       "      <th>opcao_3_curso</th>\n",
       "      <th>habilidades</th>\n",
       "      <th>nota_final</th>\n",
       "      <th>nota_cg</th>\n",
       "      <th>nota_etapa_1</th>\n",
       "      <th>disc1</th>\n",
       "      <th>disc2</th>\n",
       "      <th>disc3</th>\n",
       "      <th>nota_ce</th>\n",
       "      <th>nota_redacao</th>\n",
       "      <th>nota_etapa_2</th>\n",
       "      <th>opcao_curso_1</th>\n",
       "      <th>id_referencia_curso</th>\n",
       "      <th>nome_referencia_curso</th>\n",
       "      <th>ano</th>\n",
       "    </tr>\n",
       "  </thead>\n",
       "  <tbody>\n",
       "    <tr>\n",
       "      <th>176013</th>\n",
       "      <td>2422644-0</td>\n",
       "      <td>MILLY ARIELY BRANCHES BELMONT</td>\n",
       "      <td>15/06/04</td>\n",
       "      <td>2.126</td>\n",
       "      <td>07063</td>\n",
       "      <td>No</td>\n",
       "      <td>No</td>\n",
       "      <td>35,236</td>\n",
       "      <td>27,381</td>\n",
       "      <td>27,381</td>\n",
       "      <td>5</td>\n",
       "      <td>3</td>\n",
       "      <td>4</td>\n",
       "      <td>24,00</td>\n",
       "      <td>19,09</td>\n",
       "      <td>43,091</td>\n",
       "      <td>6063</td>\n",
       "      <td>6063</td>\n",
       "      <td>Medicina - Integral - Manaus</td>\n",
       "      <td>2022</td>\n",
       "    </tr>\n",
       "    <tr>\n",
       "      <th>44589</th>\n",
       "      <td>6413169-6</td>\n",
       "      <td>MARKLEISON SANTOS DOS SANTOS</td>\n",
       "      <td>18/02/01</td>\n",
       "      <td>327.000</td>\n",
       "      <td>02002</td>\n",
       "      <td>03002</td>\n",
       "      <td>No</td>\n",
       "      <td>32,327</td>\n",
       "      <td>27,381</td>\n",
       "      <td>27,381</td>\n",
       "      <td>5</td>\n",
       "      <td>2</td>\n",
       "      <td>4</td>\n",
       "      <td>22,00</td>\n",
       "      <td>15,27</td>\n",
       "      <td>37,273</td>\n",
       "      <td>1002</td>\n",
       "      <td>1002</td>\n",
       "      <td>Administração - Vespertino - Manaus</td>\n",
       "      <td>2019</td>\n",
       "    </tr>\n",
       "    <tr>\n",
       "      <th>152427</th>\n",
       "      <td>2544026-8</td>\n",
       "      <td>SILAS JEAN PINHO</td>\n",
       "      <td>12/12/00</td>\n",
       "      <td>28.000</td>\n",
       "      <td>02040</td>\n",
       "      <td>03040</td>\n",
       "      <td>No</td>\n",
       "      <td>31,773</td>\n",
       "      <td>25,000</td>\n",
       "      <td>25,000</td>\n",
       "      <td>4</td>\n",
       "      <td>1</td>\n",
       "      <td>6</td>\n",
       "      <td>22,00</td>\n",
       "      <td>16,55</td>\n",
       "      <td>38,545</td>\n",
       "      <td>1040</td>\n",
       "      <td>2040</td>\n",
       "      <td>Licenciatura em Geografia - Noturno - Tabatinga</td>\n",
       "      <td>2022</td>\n",
       "    </tr>\n",
       "    <tr>\n",
       "      <th>135791</th>\n",
       "      <td>1242810-8</td>\n",
       "      <td>LAUANNE VITORIA TEIXEIRA SOARES</td>\n",
       "      <td>12/03/03</td>\n",
       "      <td>1.596</td>\n",
       "      <td>06063</td>\n",
       "      <td>07063</td>\n",
       "      <td>No</td>\n",
       "      <td>46,693</td>\n",
       "      <td>40,476</td>\n",
       "      <td>40,476</td>\n",
       "      <td>5</td>\n",
       "      <td>3</td>\n",
       "      <td>7</td>\n",
       "      <td>30,00</td>\n",
       "      <td>22,91</td>\n",
       "      <td>52,909</td>\n",
       "      <td>5063</td>\n",
       "      <td>7063</td>\n",
       "      <td>Medicina - Integral - Manaus</td>\n",
       "      <td>2021</td>\n",
       "    </tr>\n",
       "    <tr>\n",
       "      <th>5555</th>\n",
       "      <td>6365989-1</td>\n",
       "      <td>JENNIFER TAVEIRA DO NASCIMENTO</td>\n",
       "      <td>18/11/01</td>\n",
       "      <td>633.000</td>\n",
       "      <td>07016</td>\n",
       "      <td>No</td>\n",
       "      <td>No</td>\n",
       "      <td>35,344</td>\n",
       "      <td>32,143</td>\n",
       "      <td>32,143</td>\n",
       "      <td>5</td>\n",
       "      <td>0</td>\n",
       "      <td>6</td>\n",
       "      <td>22,00</td>\n",
       "      <td>16,55</td>\n",
       "      <td>38,545</td>\n",
       "      <td>6016</td>\n",
       "      <td>6016</td>\n",
       "      <td>Enfermagem - Integral - Manaus</td>\n",
       "      <td>2019</td>\n",
       "    </tr>\n",
       "  </tbody>\n",
       "</table>\n",
       "</div>"
      ],
      "text/plain": [
       "       numinscricao                             nome  datanasc  classificacao  \\\n",
       "176013    2422644-0    MILLY ARIELY BRANCHES BELMONT  15/06/04          2.126   \n",
       "44589     6413169-6     MARKLEISON SANTOS DOS SANTOS  18/02/01        327.000   \n",
       "152427    2544026-8                 SILAS JEAN PINHO  12/12/00         28.000   \n",
       "135791    1242810-8  LAUANNE VITORIA TEIXEIRA SOARES  12/03/03          1.596   \n",
       "5555      6365989-1   JENNIFER TAVEIRA DO NASCIMENTO  18/11/01        633.000   \n",
       "\n",
       "       opcao_curso_2 opcao_3_curso habilidades nota_final nota_cg  \\\n",
       "176013         07063            No          No     35,236  27,381   \n",
       "44589          02002         03002          No     32,327  27,381   \n",
       "152427         02040         03040          No     31,773  25,000   \n",
       "135791         06063         07063          No     46,693  40,476   \n",
       "5555           07016            No          No     35,344  32,143   \n",
       "\n",
       "       nota_etapa_1  disc1  disc2  disc3 nota_ce nota_redacao nota_etapa_2  \\\n",
       "176013       27,381      5      3      4   24,00        19,09       43,091   \n",
       "44589        27,381      5      2      4   22,00        15,27       37,273   \n",
       "152427       25,000      4      1      6   22,00        16,55       38,545   \n",
       "135791       40,476      5      3      7   30,00        22,91       52,909   \n",
       "5555         32,143      5      0      6   22,00        16,55       38,545   \n",
       "\n",
       "        opcao_curso_1  id_referencia_curso  \\\n",
       "176013           6063                 6063   \n",
       "44589            1002                 1002   \n",
       "152427           1040                 2040   \n",
       "135791           5063                 7063   \n",
       "5555             6016                 6016   \n",
       "\n",
       "                                  nome_referencia_curso   ano  \n",
       "176013                     Medicina - Integral - Manaus  2022  \n",
       "44589               Administração - Vespertino - Manaus  2019  \n",
       "152427  Licenciatura em Geografia - Noturno - Tabatinga  2022  \n",
       "135791                     Medicina - Integral - Manaus  2021  \n",
       "5555                     Enfermagem - Integral - Manaus  2019  "
      ]
     },
     "execution_count": 78,
     "metadata": {},
     "output_type": "execute_result"
    }
   ],
   "source": [
    "data.sample(5)"
   ]
  },
  {
   "cell_type": "code",
   "execution_count": 79,
   "metadata": {},
   "outputs": [
    {
     "name": "stdout",
     "output_type": "stream",
     "text": [
      "<class 'pandas.core.frame.DataFrame'>\n",
      "RangeIndex: 184389 entries, 0 to 184388\n",
      "Data columns (total 20 columns):\n",
      " #   Column                 Non-Null Count   Dtype  \n",
      "---  ------                 --------------   -----  \n",
      " 0   numinscricao           184389 non-null  object \n",
      " 1   nome                   184389 non-null  object \n",
      " 2   datanasc               184389 non-null  object \n",
      " 3   classificacao          184389 non-null  float64\n",
      " 4   opcao_curso_2          184389 non-null  object \n",
      " 5   opcao_3_curso          184389 non-null  object \n",
      " 6   habilidades            184389 non-null  object \n",
      " 7   nota_final             184389 non-null  object \n",
      " 8   nota_cg                184389 non-null  object \n",
      " 9   nota_etapa_1           184389 non-null  object \n",
      " 10  disc1                  184389 non-null  int64  \n",
      " 11  disc2                  184389 non-null  int64  \n",
      " 12  disc3                  184389 non-null  int64  \n",
      " 13  nota_ce                184389 non-null  object \n",
      " 14  nota_redacao           184389 non-null  object \n",
      " 15  nota_etapa_2           184389 non-null  object \n",
      " 16  opcao_curso_1          184389 non-null  int64  \n",
      " 17  id_referencia_curso    184389 non-null  int64  \n",
      " 18  nome_referencia_curso  184389 non-null  object \n",
      " 19  ano                    184389 non-null  int64  \n",
      "dtypes: float64(1), int64(6), object(13)\n",
      "memory usage: 28.1+ MB\n"
     ]
    }
   ],
   "source": [
    "# Exploring scores\n",
    "data.info()"
   ]
  },
  {
   "cell_type": "code",
   "execution_count": 80,
   "metadata": {},
   "outputs": [
    {
     "name": "stdout",
     "output_type": "stream",
     "text": [
      "<class 'pandas.core.frame.DataFrame'>\n",
      "RangeIndex: 184389 entries, 0 to 184388\n",
      "Data columns (total 5 columns):\n",
      " #   Column        Non-Null Count   Dtype  \n",
      "---  ------        --------------   -----  \n",
      " 0   nota_final    184389 non-null  float64\n",
      " 1   nota_etapa_1  184389 non-null  float64\n",
      " 2   nota_etapa_2  184389 non-null  float64\n",
      " 3   nota_redacao  184389 non-null  float64\n",
      " 4   ano           184389 non-null  int64  \n",
      "dtypes: float64(4), int64(1)\n",
      "memory usage: 7.0 MB\n"
     ]
    }
   ],
   "source": [
    "# Removing fields\n",
    "\n",
    "def replace_comma(numberst: str):\n",
    "    return numberst.replace(',', '.')\n",
    "\n",
    "def parse_column_float(local_data, column):\n",
    "    return local_data[column].apply(replace_comma).astype(float)\n",
    "\n",
    "fields = ['nota_final', 'nota_etapa_1', 'nota_etapa_2', 'nota_redacao', 'ano']\n",
    "data_fields = data.filter(items=fields)\n",
    "\n",
    "data_fields['nota_final'] = parse_column_float(data_fields, 'nota_final')\n",
    "data_fields['nota_etapa_1'] = parse_column_float(data_fields, 'nota_etapa_1')\n",
    "data_fields['nota_etapa_2'] = parse_column_float(data_fields, 'nota_etapa_2')\n",
    "data_fields['nota_redacao'] = parse_column_float(data_fields, 'nota_redacao')\n",
    "\n",
    "data_fields.info()"
   ]
  },
  {
   "cell_type": "code",
   "execution_count": 81,
   "metadata": {},
   "outputs": [
    {
     "name": "stdout",
     "output_type": "stream",
     "text": [
      "<class 'pandas.core.frame.DataFrame'>\n",
      "RangeIndex: 184389 entries, 0 to 184388\n",
      "Data columns (total 6 columns):\n",
      " #   Column            Non-Null Count   Dtype  \n",
      "---  ------            --------------   -----  \n",
      " 0   nota_final        184389 non-null  float64\n",
      " 1   nota_etapa_1      184389 non-null  float64\n",
      " 2   nota_etapa_2      184389 non-null  float64\n",
      " 3   nota_redacao      184389 non-null  float64\n",
      " 4   ano               184389 non-null  int64  \n",
      " 5   desempenho_final  184389 non-null  int64  \n",
      "dtypes: float64(4), int64(2)\n",
      "memory usage: 8.4 MB\n"
     ]
    }
   ],
   "source": [
    "# Exploring data\n",
    "MAX_SCORE = 100\n",
    "\n",
    "def define_score_level(score: float):\n",
    "    if score < 10: return 1 # F\n",
    "    elif score < 20: return 2 # E\n",
    "    elif score < 30: return 3 # D-\n",
    "    elif score < 40: return 4 # D+\n",
    "    elif score < 50: return 5 # C-\n",
    "    elif score < 60: return 6 # C+\n",
    "    elif score < 70: return 7 # B-\n",
    "    elif score < 80: return 8 # B+\n",
    "    elif score < 90: return 9 # A-\n",
    "    else: return 10 # A+\n",
    "\n",
    "data_fields['desempenho_final'] = data_fields['nota_final'].apply(define_score_level)\n",
    "data_fields.info()"
   ]
  },
  {
   "cell_type": "code",
   "execution_count": 82,
   "metadata": {},
   "outputs": [
    {
     "data": {
      "text/plain": [
       "<Axes: >"
      ]
     },
     "execution_count": 82,
     "metadata": {},
     "output_type": "execute_result"
    },
    {
     "data": {
      "image/png": "[encoded data removed]",
      "text/plain": [
       "<Figure size 640x480 with 1 Axes>"
      ]
     },
     "metadata": {},
     "output_type": "display_data"
    }
   ],
   "source": [
    "data_fields['desempenho_final'].hist()"
   ]
  },
  {
   "cell_type": "code",
   "execution_count": 83,
   "metadata": {},
   "outputs": [
    {
     "data": {
      "text/plain": [
       "<Axes: >"
      ]
     },
     "execution_count": 83,
     "metadata": {},
     "output_type": "execute_result"
    },
    {
     "data": {
      "image/png": "[encoded data removed]",
      "text/plain": [
       "<Figure size 640x480 with 1 Axes>"
      ]
     },
     "metadata": {},
     "output_type": "display_data"
    }
   ],
   "source": [
    "# 2019\n",
    "data_fields[data_fields['ano'] == 2019]['desempenho_final'].hist()"
   ]
  },
  {
   "cell_type": "code",
   "execution_count": 84,
   "metadata": {},
   "outputs": [
    {
     "data": {
      "text/plain": [
       "<Axes: >"
      ]
     },
     "execution_count": 84,
     "metadata": {},
     "output_type": "execute_result"
    },
    {
     "data": {
      "image/png": "[encoded data removed]",
      "text/plain": [
       "<Figure size 640x480 with 1 Axes>"
      ]
     },
     "metadata": {},
     "output_type": "display_data"
    }
   ],
   "source": [
    "# 2020\n",
    "data_fields[data_fields['ano'] == 2020]['desempenho_final'].hist()"
   ]
  },
  {
   "cell_type": "code",
   "execution_count": 85,
   "metadata": {},
   "outputs": [
    {
     "data": {
      "text/plain": [
       "<Axes: >"
      ]
     },
     "execution_count": 85,
     "metadata": {},
     "output_type": "execute_result"
    },
    {
     "data": {
      "image/png": "[encoded data removed]",
      "text/plain": [
       "<Figure size 640x480 with 1 Axes>"
      ]
     },
     "metadata": {},
     "output_type": "display_data"
    }
   ],
   "source": [
    "# 2021\n",
    "data_fields[data_fields['ano'] == 2021]['desempenho_final'].hist()"
   ]
  },
  {
   "cell_type": "code",
   "execution_count": 86,
   "metadata": {},
   "outputs": [
    {
     "data": {
      "text/plain": [
       "<Axes: >"
      ]
     },
     "execution_count": 86,
     "metadata": {},
     "output_type": "execute_result"
    },
    {
     "data": {
      "image/png": "[encoded data removed]",
      "text/plain": [
       "<Figure size 640x480 with 1 Axes>"
      ]
     },
     "metadata": {},
     "output_type": "display_data"
    }
   ],
   "source": [
    "# 2022\n",
    "data_fields[data_fields['ano'] == 2022]['desempenho_final'].hist()"
   ]
  },
  {
   "cell_type": "code",
   "execution_count": 87,
   "metadata": {},
   "outputs": [
    {
     "data": {
      "text/html": [
       "<div>\n",
       "<style scoped>\n",
       "    .dataframe tbody tr th:only-of-type {\n",
       "        vertical-align: middle;\n",
       "    }\n",
       "\n",
       "    .dataframe tbody tr th {\n",
       "        vertical-align: top;\n",
       "    }\n",
       "\n",
       "    .dataframe thead th {\n",
       "        text-align: right;\n",
       "    }\n",
       "</style>\n",
       "<table border=\"1\" class=\"dataframe\">\n",
       "  <thead>\n",
       "    <tr style=\"text-align: right;\">\n",
       "      <th></th>\n",
       "      <th>nota_final</th>\n",
       "      <th>nota_etapa_1</th>\n",
       "      <th>nota_etapa_2</th>\n",
       "      <th>nota_redacao</th>\n",
       "      <th>ano</th>\n",
       "      <th>desempenho_final</th>\n",
       "    </tr>\n",
       "  </thead>\n",
       "  <tbody>\n",
       "    <tr>\n",
       "      <th>nota_final</th>\n",
       "      <td>1.000000</td>\n",
       "      <td>0.943257</td>\n",
       "      <td>0.945530</td>\n",
       "      <td>0.627285</td>\n",
       "      <td>0.006360</td>\n",
       "      <td>0.975476</td>\n",
       "    </tr>\n",
       "    <tr>\n",
       "      <th>nota_etapa_1</th>\n",
       "      <td>0.943257</td>\n",
       "      <td>1.000000</td>\n",
       "      <td>0.797212</td>\n",
       "      <td>0.521188</td>\n",
       "      <td>-0.039450</td>\n",
       "      <td>0.919773</td>\n",
       "    </tr>\n",
       "    <tr>\n",
       "      <th>nota_etapa_2</th>\n",
       "      <td>0.945530</td>\n",
       "      <td>0.797212</td>\n",
       "      <td>1.000000</td>\n",
       "      <td>0.670785</td>\n",
       "      <td>0.051116</td>\n",
       "      <td>0.922716</td>\n",
       "    </tr>\n",
       "    <tr>\n",
       "      <th>nota_redacao</th>\n",
       "      <td>0.627285</td>\n",
       "      <td>0.521188</td>\n",
       "      <td>0.670785</td>\n",
       "      <td>1.000000</td>\n",
       "      <td>0.311510</td>\n",
       "      <td>0.612799</td>\n",
       "    </tr>\n",
       "    <tr>\n",
       "      <th>ano</th>\n",
       "      <td>0.006360</td>\n",
       "      <td>-0.039450</td>\n",
       "      <td>0.051116</td>\n",
       "      <td>0.311510</td>\n",
       "      <td>1.000000</td>\n",
       "      <td>0.006336</td>\n",
       "    </tr>\n",
       "    <tr>\n",
       "      <th>desempenho_final</th>\n",
       "      <td>0.975476</td>\n",
       "      <td>0.919773</td>\n",
       "      <td>0.922716</td>\n",
       "      <td>0.612799</td>\n",
       "      <td>0.006336</td>\n",
       "      <td>1.000000</td>\n",
       "    </tr>\n",
       "  </tbody>\n",
       "</table>\n",
       "</div>"
      ],
      "text/plain": [
       "                  nota_final  nota_etapa_1  nota_etapa_2  nota_redacao  \\\n",
       "nota_final          1.000000      0.943257      0.945530      0.627285   \n",
       "nota_etapa_1        0.943257      1.000000      0.797212      0.521188   \n",
       "nota_etapa_2        0.945530      0.797212      1.000000      0.670785   \n",
       "nota_redacao        0.627285      0.521188      0.670785      1.000000   \n",
       "ano                 0.006360     -0.039450      0.051116      0.311510   \n",
       "desempenho_final    0.975476      0.919773      0.922716      0.612799   \n",
       "\n",
       "                       ano  desempenho_final  \n",
       "nota_final        0.006360          0.975476  \n",
       "nota_etapa_1     -0.039450          0.919773  \n",
       "nota_etapa_2      0.051116          0.922716  \n",
       "nota_redacao      0.311510          0.612799  \n",
       "ano               1.000000          0.006336  \n",
       "desempenho_final  0.006336          1.000000  "
      ]
     },
     "execution_count": 87,
     "metadata": {},
     "output_type": "execute_result"
    }
   ],
   "source": [
    "# Correlação entre as notas separadas (nota 1, nota 2 e redação) nota final\n",
    "data_fields.corr()"
   ]
  },
  {
   "cell_type": "code",
   "execution_count": 88,
   "metadata": {},
   "outputs": [],
   "source": [
    "X = data_fields.drop(['desempenho_final'], axis=1)\n",
    "Y = data_fields['desempenho_final']\n",
    "\n",
    "X_train, X_test, Y_train, Y_test = train_test_split(X, Y, test_size=0.2, random_state=42)\n",
    "\n",
    "classifier = DecisionTreeClassifier(random_state=42)\n",
    "model = classifier.fit(X_train, Y_train)"
   ]
  },
  {
   "cell_type": "markdown",
   "metadata": {},
   "source": [
    "### Treinamento - Árvore de decisão (Somente classificador)"
   ]
  },
  {
   "cell_type": "code",
   "execution_count": 89,
   "metadata": {},
   "outputs": [
    {
     "name": "stdout",
     "output_type": "stream",
     "text": [
      "[4 3 4 ... 5 5 4]\n"
     ]
    }
   ],
   "source": [
    "predictions = model.predict(X_test)\n",
    "print(predictions)"
   ]
  },
  {
   "cell_type": "code",
   "execution_count": 90,
   "metadata": {},
   "outputs": [
    {
     "name": "stdout",
     "output_type": "stream",
     "text": [
      "Média de erros:\n",
      "0.0\n",
      "5 primeiras labels verdeiras:\n",
      "104870    4\n",
      "110487    3\n",
      "101240    4\n",
      "44839     3\n",
      "173480    3\n",
      "Name: desempenho_final, dtype: int64\n",
      "5 primeiras labels que o algoritmo preveu:\n",
      "[4 3 4 3 3]\n"
     ]
    }
   ],
   "source": [
    "# Other metrics\n",
    "tree_mse = mean_squared_error(Y_test, predictions)\n",
    "tree_rmse = np.sqrt(tree_mse)\n",
    "\n",
    "print(\"Média de erros:\") \n",
    "print(tree_rmse) \n",
    "\n",
    "print(\"5 primeiras labels verdeiras:\")\n",
    "print(Y_test[:5])\n",
    "\n",
    "print(\"5 primeiras labels que o algoritmo preveu:\")\n",
    "print(predictions[:5])"
   ]
  },
  {
   "cell_type": "markdown",
   "metadata": {},
   "source": [
    "### Treinamento - Árvore de decisão (Classificador e Técnica de Validação Cruzada)"
   ]
  },
  {
   "cell_type": "code",
   "execution_count": 91,
   "metadata": {},
   "outputs": [],
   "source": [
    "# Validação cruzada\n",
    "scores = cross_val_score(classifier, X_train, Y_train, scoring='neg_mean_squared_error', cv=10)\n",
    "tree_rmse_scores = np.sqrt(-scores)"
   ]
  },
  {
   "cell_type": "code",
   "execution_count": 92,
   "metadata": {},
   "outputs": [
    {
     "name": "stdout",
     "output_type": "stream",
     "text": [
      "Scores:  [0.         0.         0.         0.         0.00823359 0.\n",
      " 0.         0.         0.         0.        ]\n",
      "Mean:  0.0008233590595890649\n",
      "Standard Desviation:  0.0024700771787671944\n"
     ]
    }
   ],
   "source": [
    "def display_scores(scores):\n",
    "    print(\"Scores: \", scores)\n",
    "    print(\"Mean: \", scores.mean())\n",
    "    print(\"Standard Desviation: \", scores.std())\n",
    "\n",
    "display_scores(tree_rmse_scores)"
   ]
  }
 ],
 "metadata": {
  "kernelspec": {
   "display_name": "Python 3",
   "language": "python",
   "name": "python3"
  },
  "language_info": {
   "codemirror_mode": {
    "name": "ipython",
    "version": 3
   },
   "file_extension": ".py",
   "mimetype": "text/x-python",
   "name": "python",
   "nbconvert_exporter": "python",
   "pygments_lexer": "ipython3",
   "version": "3.10.0"
  }
 },
 "nbformat": 4,
 "nbformat_minor": 2
}
